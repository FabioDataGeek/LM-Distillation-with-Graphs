{
 "cells": [
  {
   "cell_type": "code",
   "execution_count": 1,
   "metadata": {},
   "outputs": [],
   "source": [
    "from supar import Parser\n",
    "import torch\n",
    "import networkx as nx\n",
    "2"
   ]
  },
  {
   "cell_type": "code",
   "execution_count": 2,
   "metadata": {},
   "outputs": [],
   "source": [
    "torch.cuda.empty_cache()"
   ]
  },
  {
   "cell_type": "code",
   "execution_count": 3,
   "metadata": {},
   "outputs": [],
   "source": [
    "torch.cuda.set_device('cuda:0')"
   ]
  },
  {
   "cell_type": "code",
   "execution_count": 4,
   "metadata": {},
   "outputs": [
    {
     "name": "stderr",
     "output_type": "stream",
     "text": [
      "/usr/local/lib/python3.10/dist-packages/tqdm/auto.py:21: TqdmWarning: IProgress not found. Please update jupyter and ipywidgets. See https://ipywidgets.readthedocs.io/en/stable/user_install.html\n",
      "  from .autonotebook import tqdm as notebook_tqdm\n",
      "Some weights of RobertaModel were not initialized from the model checkpoint at roberta-large and are newly initialized: ['roberta.pooler.dense.bias', 'roberta.pooler.dense.weight']\n",
      "You should probably TRAIN this model on a down-stream task to be able to use it for predictions and inference.\n"
     ]
    }
   ],
   "source": [
    "sin = Parser.load('dep-biaffine-roberta-en')"
   ]
  },
  {
   "cell_type": "code",
   "execution_count": 17,
   "metadata": {},
   "outputs": [],
   "source": [
    "sentence = 'I saw Sarah, with a telescope.'"
   ]
  },
  {
   "cell_type": "code",
   "execution_count": 18,
   "metadata": {},
   "outputs": [],
   "source": [
    "lista = []\n",
    "\n",
    "for i in range(10):\n",
    "    lista.append(sentence)"
   ]
  },
  {
   "cell_type": "code",
   "execution_count": 25,
   "metadata": {},
   "outputs": [],
   "source": [
    "sintactic_tree = sin.predict(lista, verbose=False, lang='en')"
   ]
  },
  {
   "cell_type": "code",
   "execution_count": 26,
   "metadata": {},
   "outputs": [
    {
     "data": {
      "text/plain": [
       "1\tI\t_\t_\t_\t_\t2\tnsubj\t_\t_\n",
       "2\tsaw\t_\t_\t_\t_\t0\troot\t_\t_\n",
       "3\tSarah\t_\t_\t_\t_\t2\tdobj\t_\t_\n",
       "4\t,\t_\t_\t_\t_\t2\tpunct\t_\t_\n",
       "5\twithout\t_\t_\t_\t_\t2\tprep\t_\t_\n",
       "6\ta\t_\t_\t_\t_\t7\tdet\t_\t_\n",
       "7\ttelescope\t_\t_\t_\t_\t5\tpobj\t_\t_\n",
       "8\t.\t_\t_\t_\t_\t2\tpunct\t_\t_"
      ]
     },
     "execution_count": 26,
     "metadata": {},
     "output_type": "execute_result"
    }
   ],
   "source": [
    "sintactic_tree[1]"
   ]
  },
  {
   "cell_type": "code",
   "execution_count": 18,
   "metadata": {},
   "outputs": [
    {
     "ename": "TypeError",
     "evalue": "'list' object is not callable",
     "output_type": "error",
     "traceback": [
      "\u001b[0;31m---------------------------------------------------------------------------\u001b[0m",
      "\u001b[0;31mTypeError\u001b[0m                                 Traceback (most recent call last)",
      "Cell \u001b[0;32mIn[18], line 1\u001b[0m\n\u001b[0;32m----> 1\u001b[0m \u001b[43msintactic_tree\u001b[49m\u001b[43m[\u001b[49m\u001b[38;5;241;43m0\u001b[39;49m\u001b[43m]\u001b[49m\u001b[38;5;241;43m.\u001b[39;49m\u001b[43mvalues\u001b[49m\u001b[43m(\u001b[49m\u001b[43m)\u001b[49m\n",
      "\u001b[0;31mTypeError\u001b[0m: 'list' object is not callable"
     ]
    }
   ],
   "source": [
    "sintactic_tree[0].values()"
   ]
  },
  {
   "cell_type": "code",
   "execution_count": 14,
   "metadata": {},
   "outputs": [
    {
     "data": {
      "text/plain": [
       "[['I', 'saw', 'Sarah', ',', 'with', 'a', 'telescope', '.'],\n",
       " ['I', 'saw', 'Sarah', ',', 'with', 'a', 'telescope', '.'],\n",
       " ['I', 'saw', 'Sarah', ',', 'with', 'a', 'telescope', '.'],\n",
       " ['I', 'saw', 'Sarah', ',', 'with', 'a', 'telescope', '.'],\n",
       " ['I', 'saw', 'Sarah', ',', 'with', 'a', 'telescope', '.'],\n",
       " ['I', 'saw', 'Sarah', ',', 'with', 'a', 'telescope', '.'],\n",
       " ['I', 'saw', 'Sarah', ',', 'with', 'a', 'telescope', '.'],\n",
       " ['I', 'saw', 'Sarah', ',', 'with', 'a', 'telescope', '.'],\n",
       " ['I', 'saw', 'Sarah', ',', 'with', 'a', 'telescope', '.'],\n",
       " ['I', 'saw', 'Sarah', ',', 'with', 'a', 'telescope', '.']]"
      ]
     },
     "execution_count": 14,
     "metadata": {},
     "output_type": "execute_result"
    }
   ],
   "source": [
    "lista"
   ]
  },
  {
   "cell_type": "code",
   "execution_count": 17,
   "metadata": {},
   "outputs": [
    {
     "data": {
      "text/plain": [
       "1\tI\t_\t_\t_\t_\t2\tnsubj\t_\t_\n",
       "2\tsaw\t_\t_\t_\t_\t0\troot\t_\t_\n",
       "3\tSarah\t_\t_\t_\t_\t2\tdobj\t_\t_\n",
       "4\t,\t_\t_\t_\t_\t3\tpunct\t_\t_\n",
       "5\twith\t_\t_\t_\t_\t3\tprep\t_\t_\n",
       "6\ta\t_\t_\t_\t_\t7\tdet\t_\t_\n",
       "7\ttelescope\t_\t_\t_\t_\t5\tpobj\t_\t_\n",
       "8\t.\t_\t_\t_\t_\t2\tpunct\t_\t_"
      ]
     },
     "execution_count": 17,
     "metadata": {},
     "output_type": "execute_result"
    }
   ],
   "source": [
    "sintactic_tree"
   ]
  },
  {
   "cell_type": "markdown",
   "metadata": {},
   "source": [
    "Usando el método values podemos obtener la información completa del árbol sintáctico para cada una de las palabras."
   ]
  },
  {
   "cell_type": "code",
   "execution_count": 6,
   "metadata": {},
   "outputs": [
    {
     "data": {
      "text/plain": [
       "[('1', '2', '3', '4', '5', '6', '7'),\n",
       " ('I', 'saw', 'Sarah', 'with', 'a', 'telescope', '.'),\n",
       " ('_', '_', '_', '_', '_', '_', '_'),\n",
       " ('_', '_', '_', '_', '_', '_', '_'),\n",
       " ('_', '_', '_', '_', '_', '_', '_'),\n",
       " ('_', '_', '_', '_', '_', '_', '_'),\n",
       " [2, 0, 2, 2, 6, 4, 2],\n",
       " ['nsubj', 'root', 'dobj', 'prep', 'det', 'pobj', 'punct'],\n",
       " ('_', '_', '_', '_', '_', '_', '_'),\n",
       " ('_', '_', '_', '_', '_', '_', '_')]"
      ]
     },
     "execution_count": 6,
     "metadata": {},
     "output_type": "execute_result"
    }
   ],
   "source": [
    "sintactic_tree.values"
   ]
  },
  {
   "cell_type": "code",
   "execution_count": 7,
   "metadata": {},
   "outputs": [],
   "source": [
    "sintactic_graph = nx.DiGraph()"
   ]
  },
  {
   "cell_type": "code",
   "execution_count": 8,
   "metadata": {},
   "outputs": [],
   "source": [
    "for i in range(len(sintactic_tree.values[1])):\n",
    "    sintactic_graph.add_node(i+1, word=sintactic_tree.values[1][i])"
   ]
  },
  {
   "cell_type": "markdown",
   "metadata": {},
   "source": [
    "En este caso, creamos el grafo para que las relaciones vayan desde el nodo padre a los nodos hijos, representandoe estas relaciones con el tipo de elemento de acuerdo a CoNLL."
   ]
  },
  {
   "cell_type": "code",
   "execution_count": 9,
   "metadata": {},
   "outputs": [],
   "source": [
    "for i in range(len(sintactic_tree.values[6])):\n",
    "    parent = int(sintactic_tree.values[6][i])\n",
    "    if parent == 0:\n",
    "        continue\n",
    "    else:\n",
    "        child = int(sintactic_tree.values[0][i])\n",
    "        sintactic_graph.add_edge(parent, child, label=sintactic_tree.values[7][i])"
   ]
  },
  {
   "cell_type": "code",
   "execution_count": 10,
   "metadata": {},
   "outputs": [
    {
     "data": {
      "text/plain": [
       "OutEdgeDataView([(2, 1, {'label': 'nsubj'}), (2, 3, {'label': 'dobj'}), (2, 4, {'label': 'prep'}), (2, 7, {'label': 'punct'}), (4, 6, {'label': 'pobj'}), (6, 5, {'label': 'det'})])"
      ]
     },
     "execution_count": 10,
     "metadata": {},
     "output_type": "execute_result"
    }
   ],
   "source": [
    "sintactic_graph.edges(data=True)"
   ]
  },
  {
   "cell_type": "code",
   "execution_count": 11,
   "metadata": {},
   "outputs": [
    {
     "data": {
      "text/plain": [
       "NodeDataView({1: {'word': 'I'}, 2: {'word': 'saw'}, 3: {'word': 'Sarah'}, 4: {'word': 'with'}, 5: {'word': 'a'}, 6: {'word': 'telescope'}, 7: {'word': '.'}})"
      ]
     },
     "execution_count": 11,
     "metadata": {},
     "output_type": "execute_result"
    }
   ],
   "source": [
    "sintactic_graph.nodes(data=True)"
   ]
  },
  {
   "cell_type": "code",
   "execution_count": 12,
   "metadata": {},
   "outputs": [],
   "source": [
    "sintactic_graph.graph['property'] = 'sintactic'\n",
    "sintactic_graph.graph['id'] = \"example_1\"\n",
    "sintactic_graph.graph['model'] = 'dep-biaffine-roberta-en'"
   ]
  },
  {
   "cell_type": "code",
   "execution_count": 13,
   "metadata": {},
   "outputs": [
    {
     "data": {
      "text/plain": [
       "{'property': 'sintactic',\n",
       " 'id': 'example_1',\n",
       " 'model': 'dep-biaffine-roberta-en'}"
      ]
     },
     "execution_count": 13,
     "metadata": {},
     "output_type": "execute_result"
    }
   ],
   "source": [
    "sintactic_graph.graph"
   ]
  },
  {
   "cell_type": "code",
   "execution_count": 14,
   "metadata": {},
   "outputs": [
    {
     "data": {
      "image/png": "[encoded data removed]",
      "text/plain": [
       "<Figure size 640x480 with 1 Axes>"
      ]
     },
     "metadata": {},
     "output_type": "display_data"
    }
   ],
   "source": [
    "# Podemos visualizar el grafo sintáctico actual\n",
    "#import pydot\n",
    "import matplotlib.pyplot as plt\n",
    "from networkx.drawing.nx_pydot import graphviz_layout\n",
    "nx.draw_kamada_kawai(sintactic_graph, with_labels=True, font_weight='bold')"
   ]
  }
 ],
 "metadata": {
  "kernelspec": {
   "display_name": "Python 3",
   "language": "python",
   "name": "python3"
  },
  "language_info": {
   "codemirror_mode": {
    "name": "ipython",
    "version": 3
   },
   "file_extension": ".py",
   "mimetype": "text/x-python",
   "name": "python",
   "nbconvert_exporter": "python",
   "pygments_lexer": "ipython3",
   "version": "3.10.12"
  }
 },
 "nbformat": 4,
 "nbformat_minor": 2
}
