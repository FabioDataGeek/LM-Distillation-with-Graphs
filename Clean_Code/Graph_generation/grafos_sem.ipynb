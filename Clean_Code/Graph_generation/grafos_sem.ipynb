{
 "cells": [
  {
   "cell_type": "code",
   "execution_count": 1,
   "metadata": {},
   "outputs": [],
   "source": [
    "from supar import Parser\n",
    "import torch\n",
    "import networkx as nx"
   ]
  },
  {
   "cell_type": "code",
   "execution_count": 2,
   "metadata": {},
   "outputs": [],
   "source": [
    "torch.cuda.set_device('cuda:0')"
   ]
  },
  {
   "cell_type": "code",
   "execution_count": 3,
   "metadata": {},
   "outputs": [],
   "source": [
    "sem = Parser.load('sdp-vi-en')"
   ]
  },
  {
   "cell_type": "code",
   "execution_count": 4,
   "metadata": {},
   "outputs": [],
   "source": [
    "semantic_tree = sem.predict(['I', 'saw', 'Sarah', 'with', 'a', 'telescope','.'], verbose=False)[0]"
   ]
  },
  {
   "cell_type": "code",
   "execution_count": 16,
   "metadata": {},
   "outputs": [
    {
     "data": {
      "text/plain": [
       "1\tI\t_\t_\t_\t_\t_\t_\t2:ARG1\t_\n",
       "2\tsaw\t_\t_\t_\t_\t_\t_\t0:root|2:ARG1\t_\n",
       "3\tSarah\t_\t_\t_\t_\t_\t_\t2:ARG2\t_\n",
       "4\twith\t_\t_\t_\t_\t_\t_\t_\t_\n",
       "5\ta\t_\t_\t_\t_\t_\t_\t_\t_\n",
       "6\ttelescope\t_\t_\t_\t_\t_\t_\t4:ARG2|5:BV\t_\n",
       "7\t.\t_\t_\t_\t_\t_\t_\tpunct\t_"
      ]
     },
     "execution_count": 16,
     "metadata": {},
     "output_type": "execute_result"
    }
   ],
   "source": [
    "semantic_tree"
   ]
  },
  {
   "cell_type": "code",
   "execution_count": 5,
   "metadata": {},
   "outputs": [
    {
     "data": {
      "text/plain": [
       "[('1', '2', '3', '4', '5', '6', '7'),\n",
       " ('I', 'saw', 'Sarah', 'with', 'a', 'telescope', '.'),\n",
       " ('_', '_', '_', '_', '_', '_', '_'),\n",
       " ('_', '_', '_', '_', '_', '_', '_'),\n",
       " ('_', '_', '_', '_', '_', '_', '_'),\n",
       " ('_', '_', '_', '_', '_', '_', '_'),\n",
       " ('_', '_', '_', '_', '_', '_', '_'),\n",
       " ('_', '_', '_', '_', '_', '_', '_'),\n",
       " ['2:ARG1', '0:root|2:ARG1', '2:ARG2', '_', '_', '4:ARG2|5:BV'],\n",
       " ('_', '_', '_', '_', '_', '_', '_')]"
      ]
     },
     "execution_count": 5,
     "metadata": {},
     "output_type": "execute_result"
    }
   ],
   "source": [
    "semantic_tree.values"
   ]
  },
  {
   "cell_type": "code",
   "execution_count": 6,
   "metadata": {},
   "outputs": [],
   "source": [
    "semantic_graph = nx.DiGraph()"
   ]
  },
  {
   "cell_type": "code",
   "execution_count": 7,
   "metadata": {},
   "outputs": [],
   "source": [
    "for i in range(len(semantic_tree.values[1])):\n",
    "    semantic_graph.add_node(i+1, word=semantic_tree.values[1][i])"
   ]
  },
  {
   "cell_type": "code",
   "execution_count": 8,
   "metadata": {},
   "outputs": [],
   "source": [
    "if len(semantic_tree.values[8]) == len(semantic_tree.values[1])-1:\n",
    "    semantic_tree.values[8].append('punct')"
   ]
  },
  {
   "cell_type": "code",
   "execution_count": 9,
   "metadata": {},
   "outputs": [
    {
     "data": {
      "text/plain": [
       "['2:ARG1', '0:root|2:ARG1', '2:ARG2', '_', '_', '4:ARG2|5:BV', 'punct']"
      ]
     },
     "execution_count": 9,
     "metadata": {},
     "output_type": "execute_result"
    }
   ],
   "source": [
    "semantic_tree.values[8]"
   ]
  },
  {
   "cell_type": "code",
   "execution_count": 12,
   "metadata": {},
   "outputs": [],
   "source": [
    "for i in range(len(semantic_tree.values[8])):\n",
    "    parents = semantic_tree.values[8][i]\n",
    "    if '_' in parents or 'punct' in parents:\n",
    "        continue\n",
    "    if '|' in parents:\n",
    "        parents = parents.split('|')\n",
    "        for parent in parents:\n",
    "            if parent[0] == '0':\n",
    "                continue\n",
    "            par, relation = int(parent.split(':')[0]), parent.split(':')[1]\n",
    "            child = int(semantic_tree.values[0][i])\n",
    "            semantic_graph.add_edge(par, child, label=relation)\n",
    "    else:\n",
    "        if parents[0] == '0':\n",
    "                continue    \n",
    "        parents, relation = int(parents.split(':')[0]), parents.split(':')[1]\n",
    "        child = int(semantic_tree.values[0][i])\n",
    "        semantic_graph.add_edge(parents, child, label=relation)"
   ]
  },
  {
   "cell_type": "code",
   "execution_count": 13,
   "metadata": {},
   "outputs": [
    {
     "data": {
      "text/plain": [
       "OutEdgeDataView([(2, 1, {'label': 'ARG1'}), (2, 2, {'label': 'ARG1'}), (2, 3, {'label': 'ARG2'}), (4, 6, {'label': 'ARG2'}), (5, 6, {'label': 'BV'})])"
      ]
     },
     "execution_count": 13,
     "metadata": {},
     "output_type": "execute_result"
    }
   ],
   "source": [
    "semantic_graph.edges(data=True)"
   ]
  },
  {
   "cell_type": "code",
   "execution_count": 14,
   "metadata": {},
   "outputs": [
    {
     "data": {
      "text/plain": [
       "NodeDataView({1: {'word': 'I'}, 2: {'word': 'saw'}, 3: {'word': 'Sarah'}, 4: {'word': 'with'}, 5: {'word': 'a'}, 6: {'word': 'telescope'}, 7: {'word': '.'}})"
      ]
     },
     "execution_count": 14,
     "metadata": {},
     "output_type": "execute_result"
    }
   ],
   "source": [
    "semantic_graph.nodes(data=True)"
   ]
  },
  {
   "cell_type": "code",
   "execution_count": 15,
   "metadata": {},
   "outputs": [
    {
     "data": {
      "image/png": "[encoded data removed]",
      "text/plain": [
       "<Figure size 640x480 with 1 Axes>"
      ]
     },
     "metadata": {},
     "output_type": "display_data"
    }
   ],
   "source": [
    "# Podemos visualizar el grafo sintáctico actual\n",
    "import matplotlib.pyplot as plt\n",
    "from networkx.drawing.nx_pydot import graphviz_layout\n",
    "nx.draw_kamada_kawai(semantic_graph, with_labels=True, font_weight='bold')"
   ]
  }
 ],
 "metadata": {
  "kernelspec": {
   "display_name": "Python 3",
   "language": "python",
   "name": "python3"
  },
  "language_info": {
   "codemirror_mode": {
    "name": "ipython",
    "version": 3
   },
   "file_extension": ".py",
   "mimetype": "text/x-python",
   "name": "python",
   "nbconvert_exporter": "python",
   "pygments_lexer": "ipython3",
   "version": "3.10.12"
  }
 },
 "nbformat": 4,
 "nbformat_minor": 2
}
