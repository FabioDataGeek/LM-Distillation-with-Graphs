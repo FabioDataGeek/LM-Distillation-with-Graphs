{
 "cells": [
  {
   "cell_type": "code",
   "execution_count": 1,
   "metadata": {},
   "outputs": [],
   "source": [
    "import pickle as pkl\n",
    "import os\n",
    "from tqdm import tqdm"
   ]
  },
  {
   "cell_type": "code",
   "execution_count": 20,
   "metadata": {},
   "outputs": [],
   "source": [
    "with open('/usrvol/processed_data/RTE3/RTE3_pairs_dev-set-final/sintactic/sintactic0.pkl', 'rb') as f:\n",
    "    data = pkl.load(f)"
   ]
  },
  {
   "cell_type": "code",
   "execution_count": 21,
   "metadata": {},
   "outputs": [
    {
     "data": {
      "text/plain": [
       "OutEdgeDataView([(2, 1, {'label': 'det'}), (4, 2, {'label': 'nsubjpass'}), (4, 3, {'label': 'auxpass'}), (4, 6, {'label': 'xcomp'}), (4, 13, {'label': 'punct'}), (4, 17, {'label': 'ccomp'}), (4, 41, {'label': 'punct'}), (6, 5, {'label': 'aux'}), (6, 12, {'label': 'dobj'}), (8, 10, {'label': 'num'}), (10, 9, {'label': 'number'}), (12, 7, {'label': 'poss'}), (12, 8, {'label': 'amod'}), (12, 11, {'label': 'nn'}), (17, 14, {'label': 'nsubjpass'}), (17, 15, {'label': 'auxpass'}), (17, 16, {'label': 'advmod'}), (17, 18, {'label': 'prep'}), (17, 22, {'label': 'prep'}), (18, 19, {'label': 'pobj'}), (19, 21, {'label': 'num'}), (21, 20, {'label': 'number'}), (22, 26, {'label': 'pobj'}), (25, 24, {'label': 'advmod'}), (26, 23, {'label': 'det'}), (26, 25, {'label': 'amod'}), (26, 27, {'label': 'appos'}), (26, 31, {'label': 'rcmod'}), (31, 28, {'label': 'nsubjpass'}), (31, 29, {'label': 'auxpass'}), (31, 30, {'label': 'advmod'}), (31, 32, {'label': 'prep'}), (32, 40, {'label': 'pobj'}), (37, 35, {'label': 'amod'}), (37, 36, {'label': 'punct'}), (40, 33, {'label': 'det'}), (40, 34, {'label': 'amod'}), (40, 37, {'label': 'amod'}), (40, 38, {'label': 'nn'}), (40, 39, {'label': 'nn'})])"
      ]
     },
     "execution_count": 21,
     "metadata": {},
     "output_type": "execute_result"
    }
   ],
   "source": [
    "data[0][0].edges(data=True)"
   ]
  },
  {
   "cell_type": "code",
   "execution_count": 2,
   "metadata": {},
   "outputs": [
    {
     "name": "stderr",
     "output_type": "stream",
     "text": [
      "  0%|\u001b[32m          \u001b[0m| 0/13 [00:00<?, ?it/s]"
     ]
    },
    {
     "name": "stdout",
     "output_type": "stream",
     "text": [
      "Processing /usrvol/processed_data/SNLI/train/sintactic ...\n"
     ]
    },
    {
     "name": "stderr",
     "output_type": "stream",
     "text": [
      "100%|\u001b[33m██████████\u001b[0m| 1075/1075 [00:40<00:00, 26.55it/s]\n",
      "  8%|\u001b[32m▊         \u001b[0m| 1/13 [00:40<08:05, 40.50s/it]"
     ]
    },
    {
     "name": "stdout",
     "output_type": "stream",
     "text": [
      "Processing /usrvol/processed_data/SNLI/test/sintactic ...\n"
     ]
    },
    {
     "name": "stderr",
     "output_type": "stream",
     "text": [
      "100%|\u001b[33m██████████\u001b[0m| 20/20 [00:00<00:00, 24.87it/s]\n",
      " 15%|\u001b[32m█▌        \u001b[0m| 2/13 [00:41<03:08, 17.15s/it]"
     ]
    },
    {
     "name": "stdout",
     "output_type": "stream",
     "text": [
      "Processing /usrvol/processed_data/SNLI/dev/sintactic ...\n"
     ]
    },
    {
     "name": "stderr",
     "output_type": "stream",
     "text": [
      "100%|\u001b[33m██████████\u001b[0m| 20/20 [00:00<00:00, 25.36it/s]\n",
      " 23%|\u001b[32m██▎       \u001b[0m| 3/13 [00:42<01:36,  9.68s/it]"
     ]
    },
    {
     "name": "stdout",
     "output_type": "stream",
     "text": [
      "Processing /usrvol/processed_data/SciTail/train/sintactic ...\n"
     ]
    },
    {
     "name": "stderr",
     "output_type": "stream",
     "text": [
      "100%|\u001b[33m██████████\u001b[0m| 47/47 [00:02<00:00, 17.24it/s]\n",
      " 31%|\u001b[32m███       \u001b[0m| 4/13 [00:44<01:02,  6.94s/it]"
     ]
    },
    {
     "name": "stdout",
     "output_type": "stream",
     "text": [
      "Processing /usrvol/processed_data/SciTail/dev/sintactic ...\n"
     ]
    },
    {
     "name": "stderr",
     "output_type": "stream",
     "text": [
      "100%|\u001b[33m██████████\u001b[0m| 3/3 [00:00<00:00, 22.25it/s]\n",
      " 38%|\u001b[32m███▊      \u001b[0m| 5/13 [00:44<00:35,  4.48s/it]"
     ]
    },
    {
     "name": "stdout",
     "output_type": "stream",
     "text": [
      "Processing /usrvol/processed_data/SciTail/test/sintactic ...\n"
     ]
    },
    {
     "name": "stderr",
     "output_type": "stream",
     "text": [
      "100%|\u001b[33m██████████\u001b[0m| 5/5 [00:00<00:00, 19.05it/s]\n",
      " 46%|\u001b[32m████▌     \u001b[0m| 6/13 [00:45<00:21,  3.05s/it]"
     ]
    },
    {
     "name": "stdout",
     "output_type": "stream",
     "text": [
      "Processing /usrvol/processed_data/RTE3/RTE3_pairs_dev-set-final/sintactic ...\n"
     ]
    },
    {
     "name": "stderr",
     "output_type": "stream",
     "text": [
      "100%|\u001b[33m██████████\u001b[0m| 2/2 [00:00<00:00, 16.31it/s]\n",
      " 54%|\u001b[32m█████▍    \u001b[0m| 7/13 [00:45<00:12,  2.09s/it]"
     ]
    },
    {
     "name": "stdout",
     "output_type": "stream",
     "text": [
      "Processing /usrvol/processed_data/RTE3/RTE3-TEST-GOLD/sintactic ...\n"
     ]
    },
    {
     "name": "stderr",
     "output_type": "stream",
     "text": [
      "100%|\u001b[33m██████████\u001b[0m| 2/2 [00:00<00:00, 21.68it/s]\n"
     ]
    },
    {
     "name": "stdout",
     "output_type": "stream",
     "text": [
      "Processing /usrvol/processed_data/RTE2/RTE2_dev/sintactic ...\n"
     ]
    },
    {
     "name": "stderr",
     "output_type": "stream",
     "text": [
      "100%|\u001b[33m██████████\u001b[0m| 2/2 [00:00<00:00, 17.66it/s]\n",
      " 69%|\u001b[32m██████▉   \u001b[0m| 9/13 [00:45<00:04,  1.13s/it]"
     ]
    },
    {
     "name": "stdout",
     "output_type": "stream",
     "text": [
      "Processing /usrvol/processed_data/RTE2/RTE2_test/sintactic ...\n"
     ]
    },
    {
     "name": "stderr",
     "output_type": "stream",
     "text": [
      "100%|\u001b[33m██████████\u001b[0m| 2/2 [00:00<00:00, 25.02it/s]\n"
     ]
    },
    {
     "name": "stdout",
     "output_type": "stream",
     "text": [
      "Processing /usrvol/processed_data/RTE1/annotated_test/sintactic ...\n"
     ]
    },
    {
     "name": "stderr",
     "output_type": "stream",
     "text": [
      "100%|\u001b[33m██████████\u001b[0m| 2/2 [00:00<00:00, 15.88it/s]\n",
      " 85%|\u001b[32m████████▍ \u001b[0m| 11/13 [00:45<00:01,  1.40it/s]"
     ]
    },
    {
     "name": "stdout",
     "output_type": "stream",
     "text": [
      "Processing /usrvol/processed_data/RTE1/dev/sintactic ...\n"
     ]
    },
    {
     "name": "stderr",
     "output_type": "stream",
     "text": [
      "100%|\u001b[33m██████████\u001b[0m| 1/1 [00:00<00:00, 85.63it/s]\n"
     ]
    },
    {
     "name": "stdout",
     "output_type": "stream",
     "text": [
      "Processing /usrvol/processed_data/RTE1/dev2/sintactic ...\n"
     ]
    },
    {
     "name": "stderr",
     "output_type": "stream",
     "text": [
      "100%|\u001b[33m██████████\u001b[0m| 1/1 [00:00<00:00, 16.20it/s]\n",
      "100%|\u001b[32m██████████\u001b[0m| 13/13 [00:45<00:00,  3.53s/it]\n"
     ]
    }
   ],
   "source": [
    "# for sintactic relations\n",
    "relations_list = []\n",
    "folders = ['/usrvol/processed_data/SNLI/train/sintactic', \n",
    "           '/usrvol/processed_data/SNLI/test/sintactic',\n",
    "           '/usrvol/processed_data/SNLI/dev/sintactic',\n",
    "           '/usrvol/processed_data/SciTail/train/sintactic',\n",
    "           '/usrvol/processed_data/SciTail/dev/sintactic',\n",
    "           '/usrvol/processed_data/SciTail/test/sintactic',\n",
    "           '/usrvol/processed_data/RTE3/RTE3_pairs_dev-set-final/sintactic',\n",
    "           '/usrvol/processed_data/RTE3/RTE3-TEST-GOLD/sintactic',\n",
    "           '/usrvol/processed_data/RTE2/RTE2_dev/sintactic',\n",
    "           '/usrvol/processed_data/RTE2/RTE2_test/sintactic',\n",
    "           '/usrvol/processed_data/RTE1/annotated_test/sintactic',\n",
    "           '/usrvol/processed_data/RTE1/dev/sintactic',\n",
    "           '/usrvol/processed_data/RTE1/dev2/sintactic']\n",
    "for folder in tqdm(folders, colour='green'):\n",
    "    files = os.listdir(f\"{folder}\")\n",
    "    print('Processing', folder, '...')\n",
    "    for file in tqdm(files, colour='yellow'):\n",
    "        with open(folder + '/' + file, 'rb') as f:\n",
    "            data = pkl.load(f)\n",
    "        for i in range(len(data)):\n",
    "            edges = data[i][0].edges(data=True)\n",
    "            for edge in edges:\n",
    "                if edge[2]['label'] not in relations_list:\n",
    "                    relations_list.append(edge[2]['label'])\n",
    "            edges = data[i][1].edges(data=True)\n",
    "            for edge in edges:\n",
    "                if edge[2]['label'] not in relations_list:\n",
    "                    relations_list.append(edge[2]['label'])"
   ]
  },
  {
   "cell_type": "code",
   "execution_count": 3,
   "metadata": {},
   "outputs": [
    {
     "data": {
      "text/plain": [
       "['det',\n",
       " 'partmod',\n",
       " 'dobj',\n",
       " 'cc',\n",
       " 'conj',\n",
       " 'nsubj',\n",
       " 'prep',\n",
       " 'punct',\n",
       " 'pobj',\n",
       " 'amod',\n",
       " 'poss',\n",
       " 'advmod',\n",
       " 'aux',\n",
       " 'cop',\n",
       " 'advcl',\n",
       " 'mark',\n",
       " 'nn',\n",
       " 'dep',\n",
       " 'prt',\n",
       " 'xcomp',\n",
       " 'expl',\n",
       " 'rcmod',\n",
       " 'ccomp',\n",
       " 'acomp',\n",
       " 'nsubjpass',\n",
       " 'auxpass',\n",
       " 'pcomp',\n",
       " 'num',\n",
       " 'mwe',\n",
       " 'quantmod',\n",
       " 'neg',\n",
       " 'appos',\n",
       " 'tmod',\n",
       " 'infmod',\n",
       " 'number',\n",
       " 'npadvmod',\n",
       " 'parataxis',\n",
       " 'iobj',\n",
       " 'predet',\n",
       " 'preconj',\n",
       " 'discourse',\n",
       " 'csubjpass',\n",
       " 'csubj',\n",
       " 'possessive',\n",
       " 'root']"
      ]
     },
     "execution_count": 3,
     "metadata": {},
     "output_type": "execute_result"
    }
   ],
   "source": [
    "relations_list"
   ]
  },
  {
   "cell_type": "code",
   "execution_count": 26,
   "metadata": {},
   "outputs": [],
   "source": [
    "with open('/usrvol/processed_data/sintactic_relation_list.pkl', 'wb') as f:\n",
    "    pkl.dump(relations_list, f)"
   ]
  },
  {
   "cell_type": "code",
   "execution_count": null,
   "metadata": {},
   "outputs": [],
   "source": []
  },
  {
   "cell_type": "code",
   "execution_count": 4,
   "metadata": {},
   "outputs": [
    {
     "name": "stderr",
     "output_type": "stream",
     "text": [
      "100%|██████████| 1075/1075 [00:36<00:00, 29.32it/s]\n",
      "100%|██████████| 20/20 [00:00<00:00, 29.22it/s].67s/it]\n",
      "100%|██████████| 20/20 [00:00<00:00, 29.35it/s].50s/it]\n",
      "100%|██████████| 47/47 [00:02<00:00, 22.44it/s].74s/it]\n",
      "100%|██████████| 3/3 [00:00<00:00, 16.19it/s] 6.11s/it]\n",
      "100%|██████████| 5/5 [00:00<00:00, 25.92it/s] 3.98s/it]\n",
      "100%|██████████| 2/2 [00:00<00:00, 31.18it/s] 2.69s/it]\n",
      "100%|██████████| 2/2 [00:00<00:00, 18.65it/s]\n",
      "100%|██████████| 2/2 [00:00<00:00, 29.16it/s] 1.41s/it]\n",
      "100%|██████████| 2/2 [00:00<00:00, 18.72it/s]\n",
      "100%|██████████| 2/2 [00:00<00:00, 27.09it/s]  1.16it/s]\n",
      "100%|██████████| 1/1 [00:00<00:00, 97.23it/s]\n",
      "100%|██████████| 1/1 [00:00<00:00, 20.44it/s]\n",
      "100%|\u001b[32m██████████\u001b[0m| 13/13 [00:41<00:00,  3.15s/it]\n"
     ]
    }
   ],
   "source": [
    "# for semantic relations\n",
    "relations_list2 = []\n",
    "folders = ['/usrvol/processed_data/SNLI/train/semantic', \n",
    "           '/usrvol/processed_data/SNLI/test/semantic',\n",
    "           '/usrvol/processed_data/SNLI/dev/semantic',\n",
    "           '/usrvol/processed_data/SciTail/train/semantic',\n",
    "           '/usrvol/processed_data/SciTail/dev/semantic',\n",
    "           '/usrvol/processed_data/SciTail/test/semantic',\n",
    "           '/usrvol/processed_data/RTE3/RTE3_pairs_dev-set-final/semantic',\n",
    "           '/usrvol/processed_data/RTE3/RTE3-TEST-GOLD/semantic',\n",
    "           '/usrvol/processed_data/RTE2/RTE2_dev/semantic',\n",
    "           '/usrvol/processed_data/RTE2/RTE2_test/semantic',\n",
    "           '/usrvol/processed_data/RTE1/annotated_test/semantic',\n",
    "           '/usrvol/processed_data/RTE1/dev/semantic',\n",
    "           '/usrvol/processed_data/RTE1/dev2/semantic']\n",
    "for folder in tqdm(folders, colour='green'):\n",
    "    files = os.listdir(f\"{folder}\")\n",
    "    for file in tqdm(files):\n",
    "        with open(folder + '/' + file, 'rb') as f:\n",
    "            data = pkl.load(f)\n",
    "        for i in range(len(data)):\n",
    "            edges = data[i][0].edges(data=True)\n",
    "            for edge in edges:\n",
    "                if edge[2]['label'] not in relations_list2:\n",
    "                    relations_list2.append(edge[2]['label'])\n",
    "            edges = data[i][1].edges(data=True)\n",
    "            for edge in edges:\n",
    "                if edge[2]['label'] not in relations_list2:\n",
    "                    relations_list2.append(edge[2]['label'])"
   ]
  },
  {
   "cell_type": "code",
   "execution_count": 5,
   "metadata": {},
   "outputs": [
    {
     "data": {
      "text/plain": [
       "['BV',\n",
       " 'ARG1',\n",
       " 'ARG2',\n",
       " 'poss',\n",
       " 'compound',\n",
       " 'subord',\n",
       " 'ARG3',\n",
       " 'neg',\n",
       " 'mwe',\n",
       " 'part',\n",
       " 'conj',\n",
       " 'loc',\n",
       " 'appos',\n",
       " 'measure',\n",
       " 'than',\n",
       " 'parenthetical',\n",
       " 'comp',\n",
       " 'times',\n",
       " 'manner',\n",
       " 'temp',\n",
       " 'of',\n",
       " 'root',\n",
       " 'ARG4']"
      ]
     },
     "execution_count": 5,
     "metadata": {},
     "output_type": "execute_result"
    }
   ],
   "source": [
    "relations_list2"
   ]
  },
  {
   "cell_type": "code",
   "execution_count": 27,
   "metadata": {},
   "outputs": [],
   "source": [
    "with open('/usrvol/processed_data/semantic_relation_list.pkl', 'wb') as f:\n",
    "    pkl.dump(relations_list2, f)"
   ]
  },
  {
   "cell_type": "code",
   "execution_count": 28,
   "metadata": {},
   "outputs": [],
   "source": [
    "set1 = set(relations_list)\n",
    "set2 = set(relations_list2)\n",
    "\n",
    "common_elements = set1.intersection(set2)"
   ]
  },
  {
   "cell_type": "code",
   "execution_count": 29,
   "metadata": {},
   "outputs": [
    {
     "data": {
      "text/plain": [
       "{'appos', 'conj', 'mwe', 'neg', 'poss', 'root'}"
      ]
     },
     "execution_count": 29,
     "metadata": {},
     "output_type": "execute_result"
    }
   ],
   "source": [
    "common_elements"
   ]
  },
  {
   "cell_type": "markdown",
   "metadata": {},
   "source": [
    "# Sintactic relations dict"
   ]
  },
  {
   "cell_type": "code",
   "execution_count": 3,
   "metadata": {},
   "outputs": [],
   "source": [
    "sintactic_dict = {\n",
    "\n",
    "    'det': 'Determiner',\n",
    "    'partmod': 'Participial relation',\n",
    "    'dobj': 'Direct object',\n",
    "    'cc': 'Coordinating conjunction',\n",
    "    'conj': 'Conjunction relation',\n",
    "    'nsubj': 'Nominal subject',\n",
    "    'prep': 'Prepositional relation',\n",
    "    'punct': 'Punctuation',\n",
    "    'pobj': 'Object of preposition',\n",
    "    'amod': 'Adjectival relation',\n",
    "    'poss': 'Possessive relation',\n",
    "    'advmod': 'Adverbial relation',\n",
    "    'aux': 'Auxiliary',\n",
    "    'cop': 'Copula',\n",
    "    'advcl': 'Adverbial clause relation',\n",
    "    'mark': 'Marker',\n",
    "    'nn': 'Noun compound relation',\n",
    "    'dep': 'Dependent',\n",
    "    'prt': 'Phrasal verb particle',\n",
    "    'xcomp': 'open clausal complement',\n",
    "    'expl': 'Expletive',\n",
    "    'rcmod': 'Relative clause relation',\n",
    "    'ccomp': 'Clausal complement',\n",
    "    'acomp': 'Adjectival complement',\n",
    "    'nsubjpass': 'Passive nominal subject',\n",
    "    'auxpass': 'Passive auxiliary',\n",
    "    'pcomp': 'Complement of preposition',\n",
    "    'num': 'Numeric relation',\n",
    "    'mwe': 'Multi-word expression',\n",
    "    'quantmod': 'Quantifier relation',\n",
    "    'neg': 'Negation relation',\n",
    "    'appos': 'Appositional relation',\n",
    "    'tmod': 'Temporal relation',\n",
    "    'infmod': 'Infinitival relation',\n",
    "    'number': 'Element of compound number',\n",
    "    'npadvmod': 'Noun phrase as adverbial relation',\n",
    "    'parataxis': 'Parataxis',\n",
    "    'iobj': 'Indirect object',\n",
    "    'predet': 'Predeterminer',\n",
    "    'preconj': 'Preconjunct',\n",
    "    'discourse': 'Discourse element',\n",
    "    'csubjpass': 'Clausal passive subject',\n",
    "    'csubj': 'Clausal subject',\n",
    "    'possessive': 'Possessive relation',\n",
    "    'root': 'Root'\n",
    "}"
   ]
  },
  {
   "cell_type": "code",
   "execution_count": 12,
   "metadata": {},
   "outputs": [],
   "source": [
    "sintactic_num_dict = {\n",
    "    'Determiner': 0,\n",
    "    'Participial relation': 1,\n",
    "    'Direct object': 2,\n",
    "    'Coordinating conjunction': 3,\n",
    "    'Conjunction relation': 4,\n",
    "    'Nominal subject': 5,\n",
    "    'Prepositional relation': 6,\n",
    "    'Punctuation': 7,\n",
    "    'Object of preposition': 8,\n",
    "    'Adjectival relation': 9,\n",
    "    'Possessive relation': 10,\n",
    "    'Adverbial relation': 11,\n",
    "    'Auxiliary': 12,\n",
    "    'Copula': 13,\n",
    "    'Adverbial clause relation': 14,\n",
    "    'Marker': 15,\n",
    "    'Noun compound relation': 16,\n",
    "    'Dependent': 17,\n",
    "    'Phrasal verb particle': 18,\n",
    "    'open clausal complement': 19,\n",
    "    'Expletive': 20,\n",
    "    'Relative clause relation': 21,\n",
    "    'Clausal complement': 22,\n",
    "    'Adjectival complement': 23,\n",
    "    'Passive nominal subject': 24,\n",
    "    'Passive auxiliary': 25,\n",
    "    'Complement of preposition': 26,\n",
    "    'Numeric relation': 27,\n",
    "    'Multi-word expression': 28,\n",
    "    'Quantifier relation': 29,\n",
    "    'Negation relation': 30,\n",
    "    'Appositional relation': 31,\n",
    "    'Temporal relation': 32,\n",
    "    'Infinitival relation': 33,\n",
    "    'Element of compound number': 34,\n",
    "    'Noun phrase as adverbial relation': 35,\n",
    "    'Parataxis': 36,\n",
    "    'Indirect object': 37,\n",
    "    'Predeterminer': 38,\n",
    "    'Preconjunct': 39,\n",
    "    'Discourse element': 40,\n",
    "    'Clausal passive subject': 41,\n",
    "    'Clausal subject': 42,\n",
    "    'Possessive relation': 43,\n",
    "    'Root':44\n",
    "}"
   ]
  },
  {
   "cell_type": "markdown",
   "metadata": {},
   "source": [
    "# Semantic dict"
   ]
  },
  {
   "cell_type": "code",
   "execution_count": 2,
   "metadata": {},
   "outputs": [],
   "source": [
    "semantic_dict = {\n",
    " 'BV': 'Binding verb',\n",
    " 'ARG1': 'First argument',\n",
    " 'ARG2': 'Second argument',\n",
    " 'ARG3': 'Third argument',\n",
    " 'ARG4': 'Fourth argument',\n",
    " 'ARG5': 'Fifth argument',\n",
    " 'ARG6': 'Sixth argument',\n",
    " 'ARG7': 'Seventh argument',\n",
    " 'ARG8': 'Eighth argument',\n",
    " 'ARG9': 'Ninth argument',\n",
    " 'poss': 'Possesive relation',\n",
    " 'compound': 'Compound relation',\n",
    " 'subord': 'Subordination relation',\n",
    " 'neg': 'Negation relation',\n",
    " 'mwe': 'Multi-word expression',\n",
    " 'part': 'Partitive relation',\n",
    " 'conj': 'Conjunction relation',\n",
    " 'loc': 'Locative relation',\n",
    " 'appos': 'Appositional relation',\n",
    " 'measure': 'Measure relation',\n",
    " 'than': 'Comparative relation',\n",
    " 'parenthetical': 'Parenthetical relation',\n",
    " 'comp': 'Complement relation',\n",
    " 'times': 'Multiplicative relation',\n",
    " 'manner': 'Manner relation',\n",
    " 'temp': 'Temporal relation',\n",
    " 'of': 'Of relation',\n",
    " 'root': 'Root',\n",
    "}"
   ]
  },
  {
   "cell_type": "code",
   "execution_count": 4,
   "metadata": {},
   "outputs": [],
   "source": [
    "semantic_num_dict = {\n",
    "    'Binding verb': 45,\n",
    "    'First argument': 46,\n",
    "    'Second argument': 47,\n",
    "    'Third argument': 48,\n",
    "    'Fourth argument': 49,\n",
    "    'Fifth argument': 50,\n",
    "    'Sixth argument': 51,\n",
    "    'Seventh argument': 52,\n",
    "    'Eighth argument': 53,\n",
    "    'Ninth argument': 54,\n",
    "    'Possesive relation': 10,\n",
    "    'Compound relation': 55,\n",
    "    'Subordination relation': 56,\n",
    "    'Negation relation': 30,\n",
    "    'Multi-word expression': 28,\n",
    "    'Partitive relation': 57,\n",
    "    'Conjunction relation': 4,\n",
    "    'Locative relation': 58,\n",
    "    'Appositional relation': 31,\n",
    "    'Measure relation': 59,\n",
    "    'Comparative relation': 60,\n",
    "    'Parenthetical relation': 61,\n",
    "    'Complement relation': 62,\n",
    "    'Multiplicative relation': 63,\n",
    "    'Manner relation': 64,\n",
    "    'Temporal relation': 65,\n",
    "    'Of relation': 66,\n",
    "    'Root': 44,\n",
    "}"
   ]
  },
  {
   "cell_type": "markdown",
   "metadata": {},
   "source": [
    "# Constituency dict"
   ]
  },
  {
   "cell_type": "code",
   "execution_count": 6,
   "metadata": {},
   "outputs": [
    {
     "name": "stderr",
     "output_type": "stream",
     "text": [
      "  0%|\u001b[32m          \u001b[0m| 0/13 [00:00<?, ?it/s]"
     ]
    },
    {
     "name": "stdout",
     "output_type": "stream",
     "text": [
      "Processing /usrvol/processed_data/SNLI/train/constituency ...\n"
     ]
    },
    {
     "name": "stderr",
     "output_type": "stream",
     "text": [
      "100%|\u001b[33m██████████\u001b[0m| 1075/1075 [01:02<00:00, 17.27it/s]\n",
      "  8%|\u001b[32m▊         \u001b[0m| 1/13 [01:02<12:27, 62.26s/it]"
     ]
    },
    {
     "name": "stdout",
     "output_type": "stream",
     "text": [
      "Processing /usrvol/processed_data/SNLI/test/constituency ...\n"
     ]
    },
    {
     "name": "stderr",
     "output_type": "stream",
     "text": [
      "100%|\u001b[33m██████████\u001b[0m| 20/20 [00:01<00:00, 17.04it/s]\n",
      " 15%|\u001b[32m█▌        \u001b[0m| 2/13 [01:03<04:49, 26.33s/it]"
     ]
    },
    {
     "name": "stdout",
     "output_type": "stream",
     "text": [
      "Processing /usrvol/processed_data/SNLI/dev/constituency ...\n"
     ]
    },
    {
     "name": "stderr",
     "output_type": "stream",
     "text": [
      "100%|\u001b[33m██████████\u001b[0m| 20/20 [00:01<00:00, 17.77it/s]\n",
      " 23%|\u001b[32m██▎       \u001b[0m| 3/13 [01:04<02:28, 14.82s/it]"
     ]
    },
    {
     "name": "stdout",
     "output_type": "stream",
     "text": [
      "Processing /usrvol/processed_data/SciTail/train/constituency ...\n"
     ]
    },
    {
     "name": "stderr",
     "output_type": "stream",
     "text": [
      "100%|\u001b[33m██████████\u001b[0m| 47/47 [00:03<00:00, 12.43it/s]\n",
      " 31%|\u001b[32m███       \u001b[0m| 4/13 [01:08<01:34, 10.46s/it]"
     ]
    },
    {
     "name": "stdout",
     "output_type": "stream",
     "text": [
      "Processing /usrvol/processed_data/SciTail/dev/constituency ...\n"
     ]
    },
    {
     "name": "stderr",
     "output_type": "stream",
     "text": [
      "100%|\u001b[33m██████████\u001b[0m| 3/3 [00:00<00:00, 13.48it/s]\n",
      " 38%|\u001b[32m███▊      \u001b[0m| 5/13 [01:08<00:54,  6.77s/it]"
     ]
    },
    {
     "name": "stdout",
     "output_type": "stream",
     "text": [
      "Processing /usrvol/processed_data/SciTail/test/constituency ...\n"
     ]
    },
    {
     "name": "stderr",
     "output_type": "stream",
     "text": [
      "100%|\u001b[33m██████████\u001b[0m| 5/5 [00:00<00:00, 15.35it/s]\n",
      " 46%|\u001b[32m████▌     \u001b[0m| 6/13 [01:08<00:32,  4.58s/it]"
     ]
    },
    {
     "name": "stdout",
     "output_type": "stream",
     "text": [
      "Processing /usrvol/processed_data/RTE3/RTE3_pairs_dev-set-final/constituency ...\n"
     ]
    },
    {
     "name": "stderr",
     "output_type": "stream",
     "text": [
      "100%|\u001b[33m██████████\u001b[0m| 2/2 [00:00<00:00, 11.64it/s]\n",
      " 54%|\u001b[32m█████▍    \u001b[0m| 7/13 [01:09<00:18,  3.14s/it]"
     ]
    },
    {
     "name": "stdout",
     "output_type": "stream",
     "text": [
      "Processing /usrvol/processed_data/RTE3/RTE3-TEST-GOLD/constituency ...\n"
     ]
    },
    {
     "name": "stderr",
     "output_type": "stream",
     "text": [
      "100%|\u001b[33m██████████\u001b[0m| 2/2 [00:00<00:00, 12.75it/s]\n",
      " 62%|\u001b[32m██████▏   \u001b[0m| 8/13 [01:09<00:10,  2.19s/it]"
     ]
    },
    {
     "name": "stdout",
     "output_type": "stream",
     "text": [
      "Processing /usrvol/processed_data/RTE2/RTE2_dev/constituency ...\n"
     ]
    },
    {
     "name": "stderr",
     "output_type": "stream",
     "text": [
      "100%|\u001b[33m██████████\u001b[0m| 2/2 [00:00<00:00, 13.52it/s]\n",
      " 69%|\u001b[32m██████▉   \u001b[0m| 9/13 [01:09<00:06,  1.55s/it]"
     ]
    },
    {
     "name": "stdout",
     "output_type": "stream",
     "text": [
      "Processing /usrvol/processed_data/RTE2/RTE2_test/constituency ...\n"
     ]
    },
    {
     "name": "stderr",
     "output_type": "stream",
     "text": [
      "100%|\u001b[33m██████████\u001b[0m| 2/2 [00:00<00:00, 14.64it/s]\n",
      " 77%|\u001b[32m███████▋  \u001b[0m| 10/13 [01:09<00:03,  1.12s/it]"
     ]
    },
    {
     "name": "stdout",
     "output_type": "stream",
     "text": [
      "Processing /usrvol/processed_data/RTE1/annotated_test/constituency ...\n"
     ]
    },
    {
     "name": "stderr",
     "output_type": "stream",
     "text": [
      "100%|\u001b[33m██████████\u001b[0m| 2/2 [00:00<00:00, 11.66it/s]\n",
      " 85%|\u001b[32m████████▍ \u001b[0m| 11/13 [01:09<00:01,  1.21it/s]"
     ]
    },
    {
     "name": "stdout",
     "output_type": "stream",
     "text": [
      "Processing /usrvol/processed_data/RTE1/dev/constituency ...\n"
     ]
    },
    {
     "name": "stderr",
     "output_type": "stream",
     "text": [
      "100%|\u001b[33m██████████\u001b[0m| 1/1 [00:00<00:00, 37.23it/s]\n"
     ]
    },
    {
     "name": "stdout",
     "output_type": "stream",
     "text": [
      "Processing /usrvol/processed_data/RTE1/dev2/constituency ...\n"
     ]
    },
    {
     "name": "stderr",
     "output_type": "stream",
     "text": [
      "100%|\u001b[33m██████████\u001b[0m| 1/1 [00:00<00:00, 17.73it/s]\n",
      "100%|\u001b[32m██████████\u001b[0m| 13/13 [01:09<00:00,  5.37s/it]\n"
     ]
    }
   ],
   "source": [
    "# for constituency relations\n",
    "relations_list3 = []\n",
    "folders = ['/usrvol/processed_data/SNLI/train/constituency', \n",
    "           '/usrvol/processed_data/SNLI/test/constituency',\n",
    "           '/usrvol/processed_data/SNLI/dev/constituency',\n",
    "           '/usrvol/processed_data/SciTail/train/constituency',\n",
    "           '/usrvol/processed_data/SciTail/dev/constituency',\n",
    "           '/usrvol/processed_data/SciTail/test/constituency',\n",
    "           '/usrvol/processed_data/RTE3/RTE3_pairs_dev-set-final/constituency',\n",
    "           '/usrvol/processed_data/RTE3/RTE3-TEST-GOLD/constituency',\n",
    "           '/usrvol/processed_data/RTE2/RTE2_dev/constituency',\n",
    "           '/usrvol/processed_data/RTE2/RTE2_test/constituency',\n",
    "           '/usrvol/processed_data/RTE1/annotated_test/constituency',\n",
    "           '/usrvol/processed_data/RTE1/dev/constituency',\n",
    "           '/usrvol/processed_data/RTE1/dev2/constituency']\n",
    "for folder in tqdm(folders, colour='green'):\n",
    "    files = os.listdir(f\"{folder}\")\n",
    "    print('Processing', folder, '...')\n",
    "    for file in tqdm(files, colour='yellow'):\n",
    "        with open(folder + '/' + file, 'rb') as f:\n",
    "            data = pkl.load(f)\n",
    "        for i in range(len(data)):\n",
    "            nodes = data[i][0].nodes(data=True)\n",
    "            for node in nodes:\n",
    "                if isinstance(node[0], str):\n",
    "                    if node[1]['label'] not in relations_list3:\n",
    "                        relations_list3.append(node[1]['label'])\n",
    "            nodes = data[i][1].nodes(data=True)\n",
    "            for node in nodes:\n",
    "                if isinstance(node[0], str):\n",
    "                    if node[1]['label'] not in relations_list3:\n",
    "                        relations_list3.append(node[1]['label'])"
   ]
  },
  {
   "cell_type": "code",
   "execution_count": 36,
   "metadata": {},
   "outputs": [],
   "source": [
    "with open('/usrvol/processed_data/SNLI/train/constituency/constituency0.pkl', 'rb') as f:\n",
    "    data = pkl.load(f)"
   ]
  },
  {
   "cell_type": "code",
   "execution_count": 37,
   "metadata": {},
   "outputs": [],
   "source": [
    "graph = data[0][0].nodes(data=True)"
   ]
  },
  {
   "cell_type": "code",
   "execution_count": 41,
   "metadata": {},
   "outputs": [
    {
     "data": {
      "text/plain": [
       "NodeDataView({'S': {'label': '«SENTENCE»'}, 'NP0': {'label': '«NOUN PHRASE»'}, 'NP00': {'label': '«NOUN PHRASE»'}, 0: {'label': 'A'}, 2: {'label': 'person'}, 'PP01': {'label': '«PREPOSITIONAL PHRASE»'}, 6: {'label': 'on'}, 'NP011': {'label': '«NOUN PHRASE»'}, 12: {'label': 'a'}, 14: {'label': 'horse'}, 'VP1': {'label': '«VERB PHRASE»'}, 20: {'label': 'jumps'}, 'PP11': {'label': '«PREPOSITIONAL PHRASE»'}, 26: {'label': 'over'}, 'NP111': {'label': '«NOUN PHRASE»'}, 'ADJP1111': {'label': '«ADJECTIVE PHRASE»'}, 33: {'label': 'broken'}, 40: {'label': 'down'}, 45: {'label': 'airplane'}, 53: {'label': '.'}})"
      ]
     },
     "execution_count": 41,
     "metadata": {},
     "output_type": "execute_result"
    }
   ],
   "source": [
    "graph"
   ]
  },
  {
   "cell_type": "code",
   "execution_count": 44,
   "metadata": {},
   "outputs": [
    {
     "name": "stdout",
     "output_type": "stream",
     "text": [
      "S\n",
      "NP0\n",
      "NP00\n",
      "PP01\n",
      "NP011\n",
      "VP1\n",
      "PP11\n",
      "NP111\n",
      "ADJP1111\n"
     ]
    }
   ],
   "source": [
    "for node in graph:\n",
    "    if isinstance(node[0], str):\n",
    "        print(node[0])"
   ]
  },
  {
   "cell_type": "code",
   "execution_count": 46,
   "metadata": {},
   "outputs": [
    {
     "data": {
      "text/plain": [
       "26"
      ]
     },
     "execution_count": 46,
     "metadata": {},
     "output_type": "execute_result"
    }
   ],
   "source": [
    "len(relations_list3)"
   ]
  },
  {
   "cell_type": "code",
   "execution_count": 7,
   "metadata": {},
   "outputs": [
    {
     "data": {
      "text/plain": [
       "['«SENTENCE»',\n",
       " '«NOUN PHRASE»',\n",
       " '«VERB PHRASE»',\n",
       " '«PREPOSITIONAL PHRASE»',\n",
       " '«ADVERB PHRASE»',\n",
       " '«UNLIKE COORDINATED PHRASE»',\n",
       " '«ADJECTIVE PHRASE»',\n",
       " '«SUBORDINATE CLAUSE»',\n",
       " '«WH-ADVERB PHRASE»',\n",
       " '«NOUN PHRASE (NO HEAD)»',\n",
       " '«QUANTIFIER PHRASE»',\n",
       " '«PARTICLE»',\n",
       " '«PARENTETICAL»',\n",
       " '«WH-NOUN PHRASE»',\n",
       " '«WH-ADJECTIVE PHRASE»',\n",
       " '«NOT A CONSTITUENT»',\n",
       " '«FRAGMENT»',\n",
       " '«INVERTED SENTENCE»',\n",
       " '«INTERJECTION»',\n",
       " '«WH-PREPOSITIONAL PHRASE»',\n",
       " '«QUESTION»',\n",
       " '«SUBORDINATE CLAUSE QUESTION»',\n",
       " '«CONJUCTION PHRASE»',\n",
       " '«UNKNOWN»',\n",
       " '«REDUCED RELATIVE CLAUSE»',\n",
       " '«LIST MARKER»']"
      ]
     },
     "execution_count": 7,
     "metadata": {},
     "output_type": "execute_result"
    }
   ],
   "source": [
    "relations_list3"
   ]
  },
  {
   "cell_type": "code",
   "execution_count": 1,
   "metadata": {},
   "outputs": [],
   "source": [
    "constituency_dict = {\n",
    " '«SENTENCE»': 'Sentence',\n",
    " '«REDUCED RELATIVE CLAUSE»': 'Reduced relative clause',\n",
    " '«NOUN PHRASE»': 'Noun phrase',\n",
    " '«VERB PHRASE»': 'Verb phrase',\n",
    " '«PREPOSITIONAL PHRASE»': 'Prepositional phrase',\n",
    " '«ADVERB PHRASE»': 'Adverb phrase',\n",
    " '«UNLIKE COORDINATED PHRASE»': 'Unlike coordinated phrase',\n",
    " '«ADJECTIVE PHRASE»': 'Adjective phrase',\n",
    " '«SUBORDINATE CLAUSE»': 'Subordinate clause',\n",
    " '«WH-ADVERB PHRASE»': 'Wh-adverb phrase',\n",
    " '«WHADVP»': 'Wh-adverb phrase',\n",
    " '«NX»': 'Nominal phrase',\n",
    " '«QUANTIFIER PHRASE»': 'Quantifier phrase',\n",
    " '«NOUN PHRASE (NO HEAD)»': 'Noun phrase (no head)',\n",
    " '«PARTICLE»': 'Particle',\n",
    " '«PARENTETICAL»': 'Parentetical',\n",
    " '«WH-NOUN PHRASE»': 'Wh-noun phrase',\n",
    " '«WH-ADJECTIVE PHRASE»': 'Wh-adjective phrase',\n",
    " '«NOT A CONSTITUENT»': 'Not a constituent',\n",
    " '«FRAGMENT»': 'Fragment',\n",
    " '«INVERTED SENTENCE»': 'Inverted sentence',\n",
    " '«INTERJECTION»': 'Interjection',\n",
    " '«WH-PREPOSITIONAL PHRASE»': 'Wh-prepositional phrase',\n",
    " '«QUESTION»': 'Question',\n",
    " '«SUBORDINATE CLAUSE QUESTION»': 'Subordinate clause question',\n",
    " '«CONJUCTION PHRASE»': 'Conjunction phrase',\n",
    " '«UNKNOWN»': 'Unknown',\n",
    " '«LIST MARKER»': 'List marker',\n",
    " 'constituency relation': 'Constituency relation'\n",
    "}"
   ]
  },
  {
   "cell_type": "code",
   "execution_count": 9,
   "metadata": {},
   "outputs": [],
   "source": [
    "constituency_num_dict = {\n",
    " 'constituency relation': 67\n",
    "}"
   ]
  },
  {
   "cell_type": "code",
   "execution_count": 4,
   "metadata": {},
   "outputs": [],
   "source": [
    "terms_list = []\n",
    "for key in sintactic_dict.keys():\n",
    "    terms_list.append(key)\n",
    "\n",
    "for key in semantic_dict.keys():\n",
    "    terms_list.append(key)\n",
    "\n",
    "for key in constituency_dict.keys():\n",
    "    terms_list.append(key)"
   ]
  },
  {
   "cell_type": "code",
   "execution_count": 8,
   "metadata": {},
   "outputs": [],
   "source": [
    "rel_num_dict = {}\n",
    "for key in sintactic_num_dict.keys():\n",
    "    rel_num_dict[key] = sintactic_num_dict[key]\n",
    "\n",
    "for key in semantic_num_dict.keys():\n",
    "    rel_num_dict[key] = semantic_num_dict[key]\n",
    "\n",
    "for key in constituency_num_dict.keys():\n",
    "    rel_num_dict[key] = constituency_num_dict[key]"
   ]
  },
  {
   "cell_type": "code",
   "execution_count": 16,
   "metadata": {},
   "outputs": [
    {
     "data": {
      "text/plain": [
       "{'det': 'Determiner',\n",
       " 'partmod': 'Participial relation',\n",
       " 'dobj': 'Direct object',\n",
       " 'cc': 'Coordinating conjunction',\n",
       " 'conj': 'Conjunction relation',\n",
       " 'nsubj': 'Nominal subject',\n",
       " 'prep': 'Prepositional relation',\n",
       " 'punct': 'Punctuation',\n",
       " 'pobj': 'Object of preposition',\n",
       " 'amod': 'Adjectival relation',\n",
       " 'poss': 'Possessive relation',\n",
       " 'advmod': 'Adverbial relation',\n",
       " 'aux': 'Auxiliary',\n",
       " 'cop': 'Copula',\n",
       " 'advcl': 'Adverbial clause relation',\n",
       " 'mark': 'Marker',\n",
       " 'nn': 'Noun compound relation',\n",
       " 'dep': 'Dependent',\n",
       " 'prt': 'Phrasal verb particle',\n",
       " 'xcomp': 'open clausal complement',\n",
       " 'expl': 'Expletive',\n",
       " 'rcmod': 'Relative clause relation',\n",
       " 'ccomp': 'Clausal complement',\n",
       " 'acomp': 'Adjectival complement',\n",
       " 'nsubjpass': 'Passive nominal subject',\n",
       " 'auxpass': 'Passive auxiliary',\n",
       " 'pcomp': 'Complement of preposition',\n",
       " 'num': 'Numeric relation',\n",
       " 'mwe': 'Multi-word expression',\n",
       " 'quantmod': 'Quantifier relation',\n",
       " 'neg': 'Negation relation',\n",
       " 'appos': 'Appositional relation',\n",
       " 'tmod': 'Temporal relation',\n",
       " 'infmod': 'Infinitival relation',\n",
       " 'number': 'Element of compound number',\n",
       " 'npadvmod': 'Noun phrase as adverbial relation',\n",
       " 'parataxis': 'Parataxis',\n",
       " 'iobj': 'Indirect object',\n",
       " 'predet': 'Predeterminer',\n",
       " 'preconj': 'Preconjunct',\n",
       " 'discourse': 'Discourse element',\n",
       " 'csubjpass': 'Clausal passive subject',\n",
       " 'csubj': 'Clausal subject',\n",
       " 'possessive': 'Possessive relation',\n",
       " 'root': 'Root'}"
      ]
     },
     "execution_count": 16,
     "metadata": {},
     "output_type": "execute_result"
    }
   ],
   "source": [
    "sintactic_dict"
   ]
  },
  {
   "cell_type": "code",
   "execution_count": 13,
   "metadata": {},
   "outputs": [
    {
     "data": {
      "text/plain": [
       "'Determiner'"
      ]
     },
     "execution_count": 13,
     "metadata": {},
     "output_type": "execute_result"
    }
   ],
   "source": [
    "sintactic_dict['det']"
   ]
  },
  {
   "cell_type": "code",
   "execution_count": 14,
   "metadata": {},
   "outputs": [],
   "source": [
    "id_to_text = {}\n",
    "\n",
    "for key in sintactic_dict.keys():\n",
    "    id_to_text[key] = sintactic_dict[key]\n",
    "\n",
    "for key in semantic_dict.keys():\n",
    "    id_to_text[key] = semantic_dict[key]\n",
    "\n",
    "for key in constituency_dict.keys():\n",
    "    id_to_text[key] = constituency_dict[key]"
   ]
  },
  {
   "cell_type": "code",
   "execution_count": 15,
   "metadata": {},
   "outputs": [
    {
     "data": {
      "text/plain": [
       "{'det': 'Determiner',\n",
       " 'partmod': 'Participial relation',\n",
       " 'dobj': 'Direct object',\n",
       " 'cc': 'Coordinating conjunction',\n",
       " 'conj': 'Conjunction relation',\n",
       " 'nsubj': 'Nominal subject',\n",
       " 'prep': 'Prepositional relation',\n",
       " 'punct': 'Punctuation',\n",
       " 'pobj': 'Object of preposition',\n",
       " 'amod': 'Adjectival relation',\n",
       " 'poss': 'Possesive relation',\n",
       " 'advmod': 'Adverbial relation',\n",
       " 'aux': 'Auxiliary',\n",
       " 'cop': 'Copula',\n",
       " 'advcl': 'Adverbial clause relation',\n",
       " 'mark': 'Marker',\n",
       " 'nn': 'Noun compound relation',\n",
       " 'dep': 'Dependent',\n",
       " 'prt': 'Phrasal verb particle',\n",
       " 'xcomp': 'open clausal complement',\n",
       " 'expl': 'Expletive',\n",
       " 'rcmod': 'Relative clause relation',\n",
       " 'ccomp': 'Clausal complement',\n",
       " 'acomp': 'Adjectival complement',\n",
       " 'nsubjpass': 'Passive nominal subject',\n",
       " 'auxpass': 'Passive auxiliary',\n",
       " 'pcomp': 'Complement of preposition',\n",
       " 'num': 'Numeric relation',\n",
       " 'mwe': 'Multi-word expression',\n",
       " 'quantmod': 'Quantifier relation',\n",
       " 'neg': 'Negation relation',\n",
       " 'appos': 'Appositional relation',\n",
       " 'tmod': 'Temporal relation',\n",
       " 'infmod': 'Infinitival relation',\n",
       " 'number': 'Element of compound number',\n",
       " 'npadvmod': 'Noun phrase as adverbial relation',\n",
       " 'parataxis': 'Parataxis',\n",
       " 'iobj': 'Indirect object',\n",
       " 'predet': 'Predeterminer',\n",
       " 'preconj': 'Preconjunct',\n",
       " 'discourse': 'Discourse element',\n",
       " 'csubjpass': 'Clausal passive subject',\n",
       " 'csubj': 'Clausal subject',\n",
       " 'possessive': 'Possessive relation',\n",
       " 'root': 'Root',\n",
       " 'BV': 'Binding verb',\n",
       " 'ARG1': 'First argument',\n",
       " 'ARG2': 'Second argument',\n",
       " 'ARG3': 'Third argument',\n",
       " 'ARG4': 'Fourth argument',\n",
       " 'ARG5': 'Fifth argument',\n",
       " 'ARG6': 'Sixth argument',\n",
       " 'ARG7': 'Seventh argument',\n",
       " 'ARG8': 'Eighth argument',\n",
       " 'ARG9': 'Ninth argument',\n",
       " 'compound': 'Compound relation',\n",
       " 'subord': 'Subordination relation',\n",
       " 'part': 'Partitive relation',\n",
       " 'loc': 'Locative relation',\n",
       " 'measure': 'Measure relation',\n",
       " 'than': 'Comparative relation',\n",
       " 'parenthetical': 'Parenthetical relation',\n",
       " 'comp': 'Complement relation',\n",
       " 'times': 'Multiplicative relation',\n",
       " 'manner': 'Manner relation',\n",
       " 'temp': 'Temporal relation',\n",
       " 'of': 'Of relation',\n",
       " '«SENTENCE»': 'Sentence',\n",
       " '«NOUN PHRASE»': 'Noun phrase',\n",
       " '«VERB PHRASE»': 'Verb phrase',\n",
       " '«PREPOSITIONAL PHRASE»': 'Prepositional phrase',\n",
       " '«ADVERB PHRASE»': 'Adverb phrase',\n",
       " '«UNLIKE COORDINATED PHRASE»': 'Unlike coordinated phrase',\n",
       " '«ADJECTIVE PHRASE»': 'Adjective phrase',\n",
       " '«SUBORDINATE CLAUSE»': 'Subordinate clause',\n",
       " '«WHADVP»': 'Wh-adverb phrase',\n",
       " '«NX»': 'Nominal phrase',\n",
       " '«QP»': 'Quantifier phrase',\n",
       " '«PARTICLE»': 'Particle',\n",
       " '«PARENTETICAL»': 'Parentetical',\n",
       " '«WH-NOUN PHRASE»': 'Wh-noun phrase',\n",
       " '«WH-ADJECTIVE PHRASE»': 'Wh-adjective phrase',\n",
       " '«NAC»': 'Noun clause',\n",
       " '«FRAGMENT»': 'Fragment',\n",
       " '«INVERTED SENTENCE»': 'Inverted sentence',\n",
       " '«INTERJECTION»': 'Interjection',\n",
       " '«WH-PREPOSITIONAL PHRASE»': 'Wh-prepositional phrase',\n",
       " '«QUESTION»': 'Question',\n",
       " '«SUBORDINATE CLAUSE QUESTION»': 'Subordinate clause question',\n",
       " '«CONJUCTION PHRASE»': 'Conjunction phrase',\n",
       " '«UNKNOWN»': 'Unknown',\n",
       " '«RRC»': 'Reduced relative clause',\n",
       " '«LIST MARKER»': 'List marker',\n",
       " 'constituency relation': 'Constituency relation'}"
      ]
     },
     "execution_count": 15,
     "metadata": {},
     "output_type": "execute_result"
    }
   ],
   "source": [
    "id_to_text"
   ]
  },
  {
   "cell_type": "code",
   "execution_count": 18,
   "metadata": {},
   "outputs": [],
   "source": [
    "with open('/usrvol/processed_data/id_to_text.pkl', 'wb') as f:\n",
    "    pkl.dump(id_to_text, f)"
   ]
  },
  {
   "cell_type": "code",
   "execution_count": 9,
   "metadata": {},
   "outputs": [
    {
     "data": {
      "text/plain": [
       "{'Determiner': 0,\n",
       " 'Participial relation': 1,\n",
       " 'Direct object': 2,\n",
       " 'Coordinating conjunction': 3,\n",
       " 'Conjunction relation': 4,\n",
       " 'Nominal subject': 5,\n",
       " 'Prepositional relation': 6,\n",
       " 'Punctuation': 7,\n",
       " 'Object of preposition': 8,\n",
       " 'Adjectival relation': 9,\n",
       " 'Possessive relation': 43,\n",
       " 'Adverbial relation': 11,\n",
       " 'Auxiliary': 12,\n",
       " 'Copula': 13,\n",
       " 'Adverbial clause relation': 14,\n",
       " 'Marker': 15,\n",
       " 'Noun compound relation': 16,\n",
       " 'Dependent': 17,\n",
       " 'Phrasal verb particle': 18,\n",
       " 'open clausal complement': 19,\n",
       " 'Expletive': 20,\n",
       " 'Relative clause relation': 21,\n",
       " 'Clausal complement': 22,\n",
       " 'Adjectival complement': 23,\n",
       " 'Passive nominal subject': 24,\n",
       " 'Passive auxiliary': 25,\n",
       " 'Complement of preposition': 26,\n",
       " 'Numeric relation': 27,\n",
       " 'Multi-word expression': 28,\n",
       " 'Quantifier relation': 29,\n",
       " 'Negation relation': 30,\n",
       " 'Appositional relation': 31,\n",
       " 'Temporal relation': 65,\n",
       " 'Infinitival relation': 33,\n",
       " 'Element of compound number': 34,\n",
       " 'Noun phrase as adverbial relation': 35,\n",
       " 'Parataxis': 36,\n",
       " 'Indirect object': 37,\n",
       " 'Predeterminer': 38,\n",
       " 'Preconjunct': 39,\n",
       " 'Discourse element': 40,\n",
       " 'Clausal passive subject': 41,\n",
       " 'Clausal subject': 42,\n",
       " 'Root': 44,\n",
       " 'Binding verb': 45,\n",
       " 'First argument': 46,\n",
       " 'Second argument': 47,\n",
       " 'Third argument': 48,\n",
       " 'Fourth argument': 49,\n",
       " 'Fifth argument': 50,\n",
       " 'Sixth argument': 51,\n",
       " 'Seventh argument': 52,\n",
       " 'Eighth argument': 53,\n",
       " 'Ninth argument': 54,\n",
       " 'Possesive relation': 10,\n",
       " 'Compound relation': 55,\n",
       " 'Subordination relation': 56,\n",
       " 'Partitive relation': 57,\n",
       " 'Locative relation': 58,\n",
       " 'Measure relation': 59,\n",
       " 'Comparative relation': 60,\n",
       " 'Parenthetical relation': 61,\n",
       " 'Complement relation': 62,\n",
       " 'Multiplicative relation': 63,\n",
       " 'Manner relation': 64,\n",
       " 'Of relation': 66,\n",
       " 'constituency relation': 67}"
      ]
     },
     "execution_count": 9,
     "metadata": {},
     "output_type": "execute_result"
    }
   ],
   "source": [
    "rel_num_dict"
   ]
  },
  {
   "cell_type": "code",
   "execution_count": 19,
   "metadata": {},
   "outputs": [],
   "source": [
    "with open('/usrvol/processed_data/rel_num_dict.pkl', 'wb') as f:\n",
    "    pkl.dump(rel_num_dict, f)"
   ]
  },
  {
   "cell_type": "code",
   "execution_count": 55,
   "metadata": {},
   "outputs": [
    {
     "data": {
      "text/plain": [
       "99"
      ]
     },
     "execution_count": 55,
     "metadata": {},
     "output_type": "execute_result"
    }
   ],
   "source": [
    "len(terms_list)"
   ]
  },
  {
   "cell_type": "code",
   "execution_count": 56,
   "metadata": {},
   "outputs": [],
   "source": [
    "set_term = set(terms_list)"
   ]
  },
  {
   "cell_type": "code",
   "execution_count": 58,
   "metadata": {},
   "outputs": [
    {
     "data": {
      "text/plain": [
       "93"
      ]
     },
     "execution_count": 58,
     "metadata": {},
     "output_type": "execute_result"
    }
   ],
   "source": [
    "len(set_term)"
   ]
  },
  {
   "cell_type": "code",
   "execution_count": 6,
   "metadata": {},
   "outputs": [],
   "source": [
    "import pickle as pkl"
   ]
  },
  {
   "cell_type": "code",
   "execution_count": 7,
   "metadata": {},
   "outputs": [],
   "source": [
    "with open('/usrvol/processed_data/term_list.pkl', 'wb') as f:\n",
    "    pkl.dump(terms_list, f)"
   ]
  }
 ],
 "metadata": {
  "kernelspec": {
   "display_name": "Python 3",
   "language": "python",
   "name": "python3"
  },
  "language_info": {
   "codemirror_mode": {
    "name": "ipython",
    "version": 3
   },
   "file_extension": ".py",
   "mimetype": "text/x-python",
   "name": "python",
   "nbconvert_exporter": "python",
   "pygments_lexer": "ipython3",
   "version": "3.10.12"
  }
 },
 "nbformat": 4,
 "nbformat_minor": 2
}
